{
 "cells": [
  {
   "cell_type": "code",
   "execution_count": null,
   "id": "854ff29f",
   "metadata": {},
   "outputs": [],
   "source": [
    "ef check_score(a):\n",
    "    \n",
    "    symbol_values = {'#':5, 'O' : 3, 'X' : 1, '!' : -1, '!!': -3, '!!!' : -5}\n",
    "   \n",
    "    l1 = []\n",
    "    sum1 = 0\n",
    "    for i in a:\n",
    "        for j in i:\n",
    "            if j in symbol_values:\n",
    "                l1.append(symbol_values[j])\n",
    "    for num in l1:\n",
    "        sum1+=num\n",
    "    print(sum1)"
   ]
  },
  {
   "cell_type": "code",
   "execution_count": null,
   "id": "5758fef0",
   "metadata": {},
   "outputs": [],
   "source": [
    "a = [ [\"#\", \"!\"], [\"!!\", \"X\"] ]\n",
    "check_score(a)"
   ]
  },
  {
   "cell_type": "code",
   "execution_count": null,
   "id": "0a4301d1",
   "metadata": {},
   "outputs": [],
   "source": [
    "a = [ [\"!!!\", \"O\", \"!\"], [\"X\", \"#\", \"!!!\"], [\"!!\", \"X\", \"O\"] ]\n",
    "check_score(a)"
   ]
  },
  {
   "cell_type": "code",
   "execution_count": null,
   "id": "f8218f4d",
   "metadata": {},
   "outputs": [],
   "source": [
    "def combinations(*args):\n",
    "    prod = 1\n",
    "    for i in args:\n",
    "        prod*=i\n",
    "    print(prod)"
   ]
  },
  {
   "cell_type": "code",
   "execution_count": null,
   "id": "993a85c5",
   "metadata": {},
   "outputs": [],
   "source": [
    "combinations(2,3)"
   ]
  },
  {
   "cell_type": "code",
   "execution_count": null,
   "id": "5a3d04fc",
   "metadata": {},
   "outputs": [],
   "source": [
    "combinations(3, 7, 4)"
   ]
  },
  {
   "cell_type": "code",
   "execution_count": null,
   "id": "d91ec2cb",
   "metadata": {},
   "outputs": [],
   "source": [
    "combinations(2, 3, 4, 5)"
   ]
  },
  {
   "cell_type": "code",
   "execution_count": null,
   "id": "9a18afb9",
   "metadata": {},
   "outputs": [],
   "source": [
    "def encode_morse(a):\n",
    "    \n",
    "    char_to_dots = { 'A': '.-', 'B': '-...', 'C': '-.-.', 'D': '-..', 'E': '.', 'F': '..-.', 'G': '--.', \n",
    "                'H': '....', 'I': '..', 'J': '.---', 'K': '-.-', 'L': '.-..', 'M': '--', 'N': '-.', \n",
    "                'O': '---', 'P': '.--.', 'Q': '--.-', 'R': '.-.', 'S': '...', 'T': '-', 'U': '..-', \n",
    "                'V': '...-', 'W': '.--', 'X': '-..-', 'Y': '-.--', 'Z': '--..', '': '', '0': '-----', \n",
    "                '1': '.----', '2': '..---', '3': '...--', '4': '....-', '5': '.....', '6': '-....', \n",
    "                '7': '--...', '8': '---..', '9': '----.', '&': '.-...', \"'\": '.----.', '@': '.--.-.', \n",
    "                ')': '-.--.-', '(': '-.--.', ':': '---...', ',': '--..--', '=': '-...-', '!': '-.-.--',\n",
    "                '.': '.-.-.-', '-': '-....-', '+': '.-.-.', '\"': '.-..-.', '?': '..--..', '/': '-..-.' }\n",
    "   \n",
    "    b = []\n",
    "    for j in a:\n",
    "        for i in char_to_dots.keys():\n",
    "            if j == i:\n",
    "                x = char_to_dots.get(i)\n",
    "                b.append(x)\n",
    "    c = ''.join(b)\n",
    "    print(c) "
   ]
  },
  {
   "cell_type": "code",
   "execution_count": null,
   "id": "ac7e16b5",
   "metadata": {},
   "outputs": [],
   "source": [
    "encode_morse(\"EDABBIT CHALLENGE\") "
   ]
  },
  {
   "cell_type": "code",
   "execution_count": null,
   "id": "e531efe5",
   "metadata": {},
   "outputs": [],
   "source": [
    "encode_morse(\"HELP ME !\") "
   ]
  },
  {
   "cell_type": "code",
   "execution_count": null,
   "id": "bf45b376",
   "metadata": {},
   "outputs": [],
   "source": [
    "def prime(a):\n",
    "\n",
    "    #a = 5151512515524\n",
    "    l1 = []\n",
    "    for i in range(1, a+1):\n",
    "        if (a%i) == 0:\n",
    "            l1.append(i)\n",
    "            if len(l1)>4:\n",
    "                break\n",
    "    if len(l1)>2:\n",
    "        print(False)\n",
    "    else:\n",
    "        print(True)    "
   ]
  },
  {
   "cell_type": "code",
   "execution_count": null,
   "id": "7a59743e",
   "metadata": {},
   "outputs": [],
   "source": [
    "prime(7) "
   ]
  },
  {
   "cell_type": "code",
   "execution_count": null,
   "id": "581975fd",
   "metadata": {},
   "outputs": [],
   "source": [
    "prime(56963)"
   ]
  },
  {
   "cell_type": "code",
   "execution_count": null,
   "id": "d845fa27",
   "metadata": {},
   "outputs": [],
   "source": [
    "prime(5151512515524)"
   ]
  },
  {
   "cell_type": "code",
   "execution_count": null,
   "id": "5f1babe5",
   "metadata": {},
   "outputs": [],
   "source": [
    "def to_boolean_list(a) :\n",
    "    \n",
    "    alphabets = { \"a\":1,'b':0,'c':1,\"d\":0,\"e\":1,\"f\":0,\"g\":1,\"h\":0,\"i\":1,\"j\":0,\"k\":1,\"l\":0,'m':1,\"n\":0,\n",
    "                  \"o\":1,\"p\":0,\"q\":1,\"r\":0,\"s\":1,\"t\":0,\"u\":1,\"v\":0,\"w\":1,\"x\":0,\"y\":1,\"z\":0 }\n",
    "\n",
    "    #a = \"deep\"\n",
    "    x = []\n",
    "    for i in a:\n",
    "        for j in alphabets.keys():\n",
    "            if i == j:\n",
    "                d = alphabets.get(j)\n",
    "                x.append(d)\n",
    "    l1 = []            \n",
    "    for i in x:\n",
    "        if i == 1:\n",
    "            l1.append(True)\n",
    "        else:\n",
    "            l1.append(False)\n",
    "    print(l1)"
   ]
  },
  {
   "cell_type": "code",
   "execution_count": null,
   "id": "1a6ca889",
   "metadata": {},
   "outputs": [],
   "source": [
    "to_boolean_list(\"deep\") "
   ]
  },
  {
   "cell_type": "code",
   "execution_count": null,
   "id": "796a52fd",
   "metadata": {},
   "outputs": [],
   "source": [
    "to_boolean_list(\"loves\")"
   ]
  },
  {
   "cell_type": "code",
   "execution_count": null,
   "id": "a849c6ba",
   "metadata": {},
   "outputs": [],
   "source": [
    "to_boolean_list(\"tesh\")"
   ]
  }
 ],
 "metadata": {
  "kernelspec": {
   "display_name": "Python 3",
   "language": "python",
   "name": "python3"
  },
  "language_info": {
   "codemirror_mode": {
    "name": "ipython",
    "version": 3
   },
   "file_extension": ".py",
   "mimetype": "text/x-python",
   "name": "python",
   "nbconvert_exporter": "python",
   "pygments_lexer": "ipython3",
   "version": "3.8.8"
  }
 },
 "nbformat": 4,
 "nbformat_minor": 5
}
